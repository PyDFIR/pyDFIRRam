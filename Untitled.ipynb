{
 "cells": [
  {
   "cell_type": "code",
   "execution_count": 1,
   "id": "ff7fa01e-4021-4213-affc-56a4ade0857f",
   "metadata": {},
   "outputs": [],
   "source": [
    "from pathlib import Path\n",
    "from pydfirram.core.base import Generic, OperatingSystem"
   ]
  },
  {
   "cell_type": "code",
   "execution_count": 2,
   "id": "23f36296-4fab-4b37-bb3e-72ecb5002240",
   "metadata": {},
   "outputs": [],
   "source": [
    "DUMP_FILE = Path(\"/home/braguette/dataset_memory/ch2.dmp\")\n",
    "\n",
    "os = OperatingSystem.WINDOWS\n",
    "dumpfile = Path(DUMP_FILE)"
   ]
  },
  {
   "cell_type": "code",
   "execution_count": 6,
   "id": "99c00cfc-0be9-496c-97fd-3bdeba063046",
   "metadata": {},
   "outputs": [
    {
     "name": "stderr",
     "output_type": "stream",
     "text": [
      "\u001b[32m2024-06-04 20:39:07.649\u001b[0m | \u001b[1mINFO    \u001b[0m | \u001b[36mpydfirram.core.base\u001b[0m:\u001b[36m_get_plugins_list\u001b[0m:\u001b[36m380\u001b[0m - \u001b[1mTrying to import plugins\u001b[0m\n",
      "\u001b[32m2024-06-04 20:39:07.662\u001b[0m | \u001b[33m\u001b[1mWARNING \u001b[0m | \u001b[36mpydfirram.core.base\u001b[0m:\u001b[36m_get_plugins_list\u001b[0m:\u001b[36m383\u001b[0m - \u001b[33m\u001b[1mFailed to import some plugins: ['volatility3.plugins.yarascan', 'volatility3.plugins.linux.vmayarascan', 'volatility3.plugins.windows.cachedump', 'volatility3.plugins.windows.hashdump', 'volatility3.plugins.windows.vadyarascan', 'volatility3.plugins.windows.mftscan', 'volatility3.plugins.windows.svcscan', 'volatility3.plugins.windows.lsadump']\u001b[0m\n",
      "\u001b[32m2024-06-04 20:39:07.663\u001b[0m | \u001b[1mINFO    \u001b[0m | \u001b[36mpydfirram.core.base\u001b[0m:\u001b[36m_parse_plugins_list\u001b[0m:\u001b[36m419\u001b[0m - \u001b[1mFound 52 plugins for OperatingSystem.WINDOWS\u001b[0m\n",
      "\u001b[32m2024-06-04 20:39:07.665\u001b[0m | \u001b[1mINFO    \u001b[0m | \u001b[36mpydfirram.core.base\u001b[0m:\u001b[36m__init__\u001b[0m:\u001b[36m267\u001b[0m - \u001b[1mGeneric OS initialized: OperatingSystem.WINDOWS\u001b[0m\n",
      "\u001b[32m2024-06-04 20:39:07.666\u001b[0m | \u001b[1mINFO    \u001b[0m | \u001b[36mpydfirram.core.base\u001b[0m:\u001b[36m__getattr__\u001b[0m:\u001b[36m286\u001b[0m - \u001b[1mRunning the function pslist\u001b[0m\n"
     ]
    }
   ],
   "source": [
    "generic = Generic(os, dumpfile)\n",
    "output = generic.PsList().to_dict()"
   ]
  },
  {
   "cell_type": "code",
   "execution_count": 8,
   "id": "25ea20b2-a3b7-43b3-b7d4-ffe8b6c18c9e",
   "metadata": {},
   "outputs": [
    {
     "name": "stdout",
     "output_type": "stream",
     "text": [
      "Empty DataFrame\n",
      "Columns: [__children, PID, PPID, ImageFileName, Offset(V), Threads, Handles, SessionId, Wow64, CreateTime, ExitTime, File output]\n",
      "Index: []\n"
     ]
    }
   ],
   "source": [
    "print(output)"
   ]
  },
  {
   "cell_type": "code",
   "execution_count": null,
   "id": "030b7f60-82ca-4826-be7f-c4d5b8e15ddd",
   "metadata": {},
   "outputs": [],
   "source": []
  }
 ],
 "metadata": {
  "kernelspec": {
   "display_name": "Python 3 (ipykernel)",
   "language": "python",
   "name": "python3"
  },
  "language_info": {
   "codemirror_mode": {
    "name": "ipython",
    "version": 3
   },
   "file_extension": ".py",
   "mimetype": "text/x-python",
   "name": "python",
   "nbconvert_exporter": "python",
   "pygments_lexer": "ipython3",
   "version": "3.10.12"
  }
 },
 "nbformat": 4,
 "nbformat_minor": 5
}
